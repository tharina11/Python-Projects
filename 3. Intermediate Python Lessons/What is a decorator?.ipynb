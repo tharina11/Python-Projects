{
 "cells": [
  {
   "cell_type": "markdown",
   "id": "433dd554",
   "metadata": {},
   "source": [
    "### What is a decorator?\n",
    "\n",
    "A decorator is a callable that takes another function as an argument. The decorator modifies the function and updates its' functionality. Decorators are useful when we need to change the behavior of a function at runtime.\n",
    "\n",
    "There are three main facts about decorators.\n",
    "\n",
    "1. A decorator is a callable\n",
    "2. A decorator usually replaces the function with a decorated function\n",
    "3. Decorators are executed immediately when a module is loaded\n",
    "\n",
    "The two formats below has the same effect."
   ]
  },
  {
   "cell_type": "code",
   "execution_count": 2,
   "id": "04157d91",
   "metadata": {},
   "outputs": [],
   "source": [
    "###### Format 1 ######\n",
    "@decorate\n",
    "def division():\n",
    "    print('division output')\n",
    "    \n",
    "###### Format 2 ######    \n",
    "def division():\n",
    "    print('division output')\n",
    "    \n",
    "output = decorate(division)"
   ]
  },
  {
   "cell_type": "markdown",
   "id": "99590de4",
   "metadata": {},
   "source": [
    "#### Reference:\n",
    "- Fluent Python : Luciano Ramalho"
   ]
  },
  {
   "cell_type": "code",
   "execution_count": null,
   "id": "db9ae32d",
   "metadata": {},
   "outputs": [],
   "source": []
  }
 ],
 "metadata": {
  "kernelspec": {
   "display_name": "Python 3 (ipykernel)",
   "language": "python",
   "name": "python3"
  },
  "language_info": {
   "codemirror_mode": {
    "name": "ipython",
    "version": 3
   },
   "file_extension": ".py",
   "mimetype": "text/x-python",
   "name": "python",
   "nbconvert_exporter": "python",
   "pygments_lexer": "ipython3",
   "version": "3.11.4"
  }
 },
 "nbformat": 4,
 "nbformat_minor": 5
}
