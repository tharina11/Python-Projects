{
 "cells": [
  {
   "cell_type": "markdown",
   "id": "b8a42b23",
   "metadata": {},
   "source": [
    "Source: https://www.youtube.com/watch?v=8ext9G7xspg&t=4553s\n",
    "\n",
    "### Binary Search \n",
    "\n",
    "Binary search is a divide and conquer algorithm. This helps you to search an ordered list. This avoids scanning every single elements in the list, which is time consuming.\n",
    "\n",
    "Eg: Search if a number present in a list. First order the list, then go to the middle element and check if the number is larger or smaller than the middle element. If the number is larger, select only the lager side from the middle element and perform this workflow iteratively.\n",
    "\n",
    "A code example is shown below."
   ]
  },
  {
   "cell_type": "code",
   "execution_count": 9,
   "id": "e50bfeb7",
   "metadata": {},
   "outputs": [
    {
     "name": "stdout",
     "output_type": "stream",
     "text": [
      "5\n",
      "5\n",
      "Normal search time: 0.0002399913787841797 seconds\n",
      "Binary search time: 1.0799646377563477e-06 seconds\n"
     ]
    }
   ],
   "source": [
    "import random\n",
    "import time\n",
    "\n",
    "# Normal search\n",
    "def normal_search(l, target):\n",
    "    for i in range(len(l)):\n",
    "        if l[i] == target:\n",
    "            return i\n",
    "    return -1\n",
    "\n",
    "\n",
    "# Binary search\n",
    "def binary_search(l, target, low=None, high=None):\n",
    "    if low is None:\n",
    "        low = 0\n",
    "    if high is None:\n",
    "        high = len(numbers_list) - 1\n",
    "    \n",
    "    if high < low:\n",
    "        return -1\n",
    "    \n",
    "    mid_number = (low + high) //2\n",
    "    \n",
    "    if numbers_list[mid_number] == target:\n",
    "        return mid_number\n",
    "    elif target < numbers_list[mid_number]:\n",
    "        return binary_search(numbers_list, target, low, mid_number-1)\n",
    "    else:\n",
    "    #target > numbers_list[mid_number]:\n",
    "        return binary_search(numbers_list, target, mid_number+1, high)\n",
    "    \n",
    "# Run both searches and get the result   \n",
    "if __name__=='__main__':\n",
    "    numbers_list = numbers_list = [1,2,3,6,8,12,17,22]\n",
    "    target = 12\n",
    "    print(normal_search(numbers_list, target))\n",
    "    print(binary_search(numbers_list, target))\n",
    "\n",
    "    \n",
    "# Let's check how long each search takes to complete    \n",
    "    length = 10000\n",
    "    sorted_list = set()\n",
    "    while len(sorted_list) < length:\n",
    "        sorted_list.add(random.randint(-3*length, 3*length))\n",
    "    sorted_list = sorted(list(sorted_list))\n",
    "    \n",
    "    start = time.time()\n",
    "    for target in sorted_list:\n",
    "        normal_search(sorted_list, target)\n",
    "    end = time.time()\n",
    "    print(\"Normal search time:\", (end - start)/length, \"seconds\")\n",
    "    \n",
    "    start = time.time()\n",
    "    for target in sorted_list:\n",
    "        binary_search(sorted_list, target)\n",
    "    end = time.time()\n",
    "    print(\"Binary search time:\", (end - start)/length, \"seconds\")"
   ]
  },
  {
   "cell_type": "markdown",
   "id": "99a6b287",
   "metadata": {},
   "source": [
    "The binary search takes much less time compared to the normal search."
   ]
  },
  {
   "cell_type": "code",
   "execution_count": null,
   "id": "5cd50441",
   "metadata": {},
   "outputs": [],
   "source": []
  }
 ],
 "metadata": {
  "kernelspec": {
   "display_name": "Python 3 (ipykernel)",
   "language": "python",
   "name": "python3"
  },
  "language_info": {
   "codemirror_mode": {
    "name": "ipython",
    "version": 3
   },
   "file_extension": ".py",
   "mimetype": "text/x-python",
   "name": "python",
   "nbconvert_exporter": "python",
   "pygments_lexer": "ipython3",
   "version": "3.9.12"
  }
 },
 "nbformat": 4,
 "nbformat_minor": 5
}
