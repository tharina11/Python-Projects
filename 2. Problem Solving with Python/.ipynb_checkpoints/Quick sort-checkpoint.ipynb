{
 "cells": [
  {
   "cell_type": "markdown",
   "id": "193b75fe",
   "metadata": {},
   "source": [
    "Source: https://www.youtube.com/watch?v=kFeXwkgnQ9U"
   ]
  },
  {
   "cell_type": "markdown",
   "id": "69bd1268",
   "metadata": {},
   "source": [
    "### Quick Sort\n",
    "\n",
    "Quick sort takes an unsorted sequence of elements and order in ascending or descending order. It takes one element from the unsorted sequence and set it as the pivot point. All the other numbers will be sorted compared to the pivot. Then the sorting is iterated through the rest of the elements in the unsorted sequence. Once the sequnce is sorted, the elements are put together in order. "
   ]
  },
  {
   "cell_type": "code",
   "execution_count": 5,
   "id": "247c2e89",
   "metadata": {},
   "outputs": [
    {
     "name": "stdout",
     "output_type": "stream",
     "text": [
      "[1, 2, 3, 5, 5, 9, 10, 10, 12, 15]\n"
     ]
    }
   ],
   "source": [
    "#Define a quick sort function, set length of the sequence to a variable and select the last item of the list as\n",
    "#the pivot if the length is longer than 1'''\n",
    "def quick_sort(sequence):\n",
    "    length = len(sequence)\n",
    "    if length <= 1:\n",
    "        return sequence\n",
    "    else:\n",
    "        pivot = sequence.pop()\n",
    " \n",
    "# Define two list variables for elements lower than and larger than pivot \n",
    "    items_greater = []\n",
    "    items_lower = []\n",
    "# For each element in the list, assign elements to greater and lower lists compared to pivot \n",
    "\n",
    "    for item in sequence:\n",
    "        if item > pivot:\n",
    "            items_greater.append(item)\n",
    "    \n",
    "        else: items_lower.append(item)\n",
    "            \n",
    "# Once the iteration is fininshed join the lower, pivot, and greater sections \n",
    "    return quick_sort(items_lower) + [pivot] + quick_sort(items_greater)\n",
    "        \n",
    "\n",
    "print(quick_sort([5,2,1,5,10,9,3,10,15,12]))"
   ]
  }
 ],
 "metadata": {
  "kernelspec": {
   "display_name": "Python 3 (ipykernel)",
   "language": "python",
   "name": "python3"
  },
  "language_info": {
   "codemirror_mode": {
    "name": "ipython",
    "version": 3
   },
   "file_extension": ".py",
   "mimetype": "text/x-python",
   "name": "python",
   "nbconvert_exporter": "python",
   "pygments_lexer": "ipython3",
   "version": "3.9.12"
  }
 },
 "nbformat": 4,
 "nbformat_minor": 5
}
