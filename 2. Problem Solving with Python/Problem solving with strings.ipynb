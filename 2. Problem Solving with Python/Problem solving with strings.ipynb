{
 "cells": [
  {
   "cell_type": "markdown",
   "metadata": {},
   "source": [
    "## String operations"
   ]
  },
  {
   "cell_type": "markdown",
   "metadata": {},
   "source": [
    "1. Remove name 'sam' from the list below using a lambda function"
   ]
  },
  {
   "cell_type": "code",
   "execution_count": 1,
   "metadata": {},
   "outputs": [
    {
     "name": "stdout",
     "output_type": "stream",
     "text": [
      "['john', 'lopez', 'gomez']\n"
     ]
    }
   ],
   "source": [
    "names = ['sam', 'john', 'lopez', 'gomez']\n",
    "\n",
    "filtered_list = list(filter(lambda names1: (names1 != 'sam'), names))\n",
    "\n",
    "print(filtered_list)"
   ]
  },
  {
   "cell_type": "markdown",
   "metadata": {},
   "source": [
    "2. Change all the letters of a word to uppercase"
   ]
  },
  {
   "cell_type": "code",
   "execution_count": 2,
   "metadata": {},
   "outputs": [
    {
     "data": {
      "text/plain": [
       "'GEMBA'"
      ]
     },
     "execution_count": 2,
     "metadata": {},
     "output_type": "execute_result"
    }
   ],
   "source": [
    "str= 'gemba'\n",
    "k= str.upper()\n",
    "k"
   ]
  },
  {
   "cell_type": "markdown",
   "metadata": {},
   "source": [
    "3. Remove the spaces in a string"
   ]
  },
  {
   "cell_type": "code",
   "execution_count": 2,
   "metadata": {},
   "outputs": [
    {
     "data": {
      "text/plain": [
       "'abcdefghijkl'"
      ]
     },
     "execution_count": 2,
     "metadata": {},
     "output_type": "execute_result"
    }
   ],
   "source": [
    "string= \"abc de f ghij kl\"\n",
    "\n",
    "def removespace(string):\n",
    "    return string.replace(' ','')\n",
    "removespace(string)"
   ]
  },
  {
   "cell_type": "markdown",
   "metadata": {},
   "source": [
    "4. Print all the vowels included in a sentence"
   ]
  },
  {
   "cell_type": "code",
   "execution_count": 4,
   "metadata": {},
   "outputs": [
    {
     "name": "stdout",
     "output_type": "stream",
     "text": [
      " a e  i   u   "
     ]
    }
   ],
   "source": [
    "VOWELS = \"aeiou\"\n",
    "\n",
    "word = \"james is funny\"\n",
    "\n",
    "for letter in word:\n",
    "    if letter in VOWELS:\n",
    "        print(letter, end='')\n",
    "    else:\n",
    "        print(' ', end='')"
   ]
  },
  {
   "cell_type": "markdown",
   "metadata": {},
   "source": [
    "5. Sort the names of the soccer players alphabetically with the first letter of their surname. Use a lambda function"
   ]
  },
  {
   "cell_type": "code",
   "execution_count": 8,
   "metadata": {},
   "outputs": [
    {
     "name": "stdout",
     "output_type": "stream",
     "text": [
      "['Carlos', 'Drogba', 'Klose', 'Podolski', 'Terry']\n",
      "['Roberto Carlos', 'Didier Drogba', 'John Terry', 'Miroslav Klose', 'Lucas Podolski']\n"
     ]
    }
   ],
   "source": [
    "soccer_players = ['Roberto Carlos', 'Didier Drogba', 'John Terry', 'Miroslav Klose', 'Lucas Podolski']\n",
    "\n",
    "# Split names and append surnames into a list, sort the surnames in the list alphabetically\n",
    "surnames = []\n",
    "for player in soccer_players:\n",
    "    surname = player.split(' ')[-1]\n",
    "    surnames.append(surname)\n",
    "surnames.sort()\n",
    "print(surnames)\n",
    "\n",
    "# Sort the players name list according to the order of the names in the sorted surnames list\n",
    "sorted_surname = []\n",
    "for player in soccer_players:\n",
    "    for surname in surnames:\n",
    "        if surname in player:\n",
    "            sorted_surname.append(player)\n",
    "print(sorted_surname)"
   ]
  }
 ],
 "metadata": {
  "kernelspec": {
   "display_name": "Python 3",
   "language": "python",
   "name": "python3"
  },
  "language_info": {
   "codemirror_mode": {
    "name": "ipython",
    "version": 3
   },
   "file_extension": ".py",
   "mimetype": "text/x-python",
   "name": "python",
   "nbconvert_exporter": "python",
   "pygments_lexer": "ipython3",
   "version": "3.8.5"
  }
 },
 "nbformat": 4,
 "nbformat_minor": 4
}
