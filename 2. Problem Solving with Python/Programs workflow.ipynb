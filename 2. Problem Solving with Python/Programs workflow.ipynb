{
 "cells": [
  {
   "cell_type": "markdown",
   "metadata": {},
   "source": [
    "There are four choices for myCoffeeMachine, black coffee, sugar coffee, milk coffee, and sweet milk coffee. The following shows ingredients of each choice. For example, to make milk coffee, you can set coffee and milk on the coffee machine. In this manner make an ask_order function, so each choice is properly set on the myCoffeeMachine. \n",
    "\n",
    "### Recepies \n",
    "- black coffee: coffee \n",
    "- sugar coffee: coffee, sugar \n",
    "- milk coffee: coffee, milk \n",
    "- sweet milk coffee: coffee, milk, sugar \n",
    "- Use this menu list \n",
    "- Menu = ['black coffee', 'sugar coffee', 'milk coffee', 'sweet milk coffee']"
   ]
  },
  {
   "cell_type": "code",
   "execution_count": 4,
   "metadata": {},
   "outputs": [
    {
     "ename": "AttributeError",
     "evalue": "'str' object has no attribute 'name'",
     "output_type": "error",
     "traceback": [
      "\u001b[1;31m---------------------------------------------------------------------------\u001b[0m",
      "\u001b[1;31mAttributeError\u001b[0m                            Traceback (most recent call last)",
      "\u001b[1;32m<ipython-input-4-53f6ef0ed8f5>\u001b[0m in \u001b[0;36m<module>\u001b[1;34m\u001b[0m\n\u001b[0;32m     14\u001b[0m         \u001b[1;32mreturn\u001b[0m \u001b[0mmilk\u001b[0m\u001b[1;33m,\u001b[0m \u001b[0msugar\u001b[0m\u001b[1;33m,\u001b[0m \u001b[0mcoffee\u001b[0m\u001b[1;33m\u001b[0m\u001b[1;33m\u001b[0m\u001b[0m\n\u001b[0;32m     15\u001b[0m \u001b[1;33m\u001b[0m\u001b[0m\n\u001b[1;32m---> 16\u001b[1;33m \u001b[0mask_order\u001b[0m\u001b[1;33m.\u001b[0m\u001b[0mblack_coffee\u001b[0m\u001b[1;33m(\u001b[0m\u001b[1;34m'ni'\u001b[0m\u001b[1;33m)\u001b[0m\u001b[1;33m\u001b[0m\u001b[1;33m\u001b[0m\u001b[0m\n\u001b[0m",
      "\u001b[1;32m<ipython-input-4-53f6ef0ed8f5>\u001b[0m in \u001b[0;36mblack_coffee\u001b[1;34m(self)\u001b[0m\n\u001b[0;32m      6\u001b[0m \u001b[1;33m\u001b[0m\u001b[0m\n\u001b[0;32m      7\u001b[0m     \u001b[1;32mdef\u001b[0m \u001b[0mblack_coffee\u001b[0m\u001b[1;33m(\u001b[0m\u001b[0mself\u001b[0m\u001b[1;33m)\u001b[0m\u001b[1;33m:\u001b[0m\u001b[1;33m\u001b[0m\u001b[1;33m\u001b[0m\u001b[0m\n\u001b[1;32m----> 8\u001b[1;33m         \u001b[0mprint\u001b[0m\u001b[1;33m(\u001b[0m\u001b[1;34m'Mix water with'\u001b[0m\u001b[1;33m,\u001b[0m \u001b[0mself\u001b[0m\u001b[1;33m.\u001b[0m\u001b[0mname\u001b[0m\u001b[1;33m)\u001b[0m\u001b[1;33m\u001b[0m\u001b[1;33m\u001b[0m\u001b[0m\n\u001b[0m\u001b[0;32m      9\u001b[0m     \u001b[1;32mdef\u001b[0m \u001b[0msugar_coffee\u001b[0m\u001b[1;33m(\u001b[0m\u001b[0mself\u001b[0m\u001b[1;33m)\u001b[0m\u001b[1;33m:\u001b[0m\u001b[1;33m\u001b[0m\u001b[1;33m\u001b[0m\u001b[0m\n\u001b[0;32m     10\u001b[0m         \u001b[1;32mreturn\u001b[0m \u001b[0mcoffee\u001b[0m\u001b[1;33m,\u001b[0m \u001b[0msugar\u001b[0m\u001b[1;33m\u001b[0m\u001b[1;33m\u001b[0m\u001b[0m\n",
      "\u001b[1;31mAttributeError\u001b[0m: 'str' object has no attribute 'name'"
     ]
    }
   ],
   "source": [
    "class ask_order:\n",
    "    def __init__ (self, coffee, sugar, milk):\n",
    "        self.coffee= coffee\n",
    "        self.sugar= sugar\n",
    "        self.milk= milk\n",
    "    \n",
    "    def black_coffee(self):\n",
    "        print('Mix water with', self.name)\n",
    "    def sugar_coffee(self):\n",
    "        return coffee, sugar\n",
    "    def milk_coffee(self):\n",
    "        return coffee, milk\n",
    "    def sweet_milk_coffee(self):\n",
    "        return milk, sugar, coffee\n",
    " "
   ]
  },
  {
   "cell_type": "markdown",
   "metadata": {},
   "source": [
    "2. Write a code for a calculator for addition, division, multiplication and subtraction"
   ]
  },
  {
   "cell_type": "code",
   "execution_count": 2,
   "metadata": {},
   "outputs": [
    {
     "name": "stdout",
     "output_type": "stream",
     "text": [
      "2\n"
     ]
    }
   ],
   "source": [
    "class calculator:\n",
    "    \n",
    "    def addition(x,y):\n",
    "        add= x + y\n",
    "        print (add)\n",
    "    def division(x,y):\n",
    "        divide = x//y\n",
    "        print (divide)\n",
    "    def multiplication(x,y):\n",
    "        multi= x*y\n",
    "        print (multi)\n",
    "    def subtraction(x,y):\n",
    "        sub = x- y\n",
    "        print (sub)\n",
    "\n",
    "calculator.division(4,2)"
   ]
  },
  {
   "cell_type": "markdown",
   "metadata": {},
   "source": [
    "This code is written following a [youtube video](https://www.youtube.com/watch?v=RZHohytQc74)  to explore and understand the thought process behind the coffee machine problem"
   ]
  },
  {
   "cell_type": "code",
   "execution_count": null,
   "metadata": {},
   "outputs": [
    {
     "name": "stdout",
     "output_type": "stream",
     "text": [
      "What would you like to have?(espresso/latte/cappaccino):latte\n",
      "Please enter coins.\n",
      "how many quarters?:12\n",
      "how many dimes?:25\n",
      "how many nickles?:10\n",
      "how many pennies?:10\n",
      "Here is$3.6 in change.\n",
      "Here is yourlatte. Thank you!\n",
      "Here is yourlatte. Thank you!\n",
      "Here is yourlatte. Thank you!\n",
      "What would you like to have?(espresso/latte/cappaccino):espresso\n",
      "Please enter coins.\n",
      "how many quarters?:12\n",
      "how many dimes?:25\n",
      "how many nickles?:10\n",
      "how many pennies?:10\n",
      "Here is$4.6 in change.\n",
      "Here is yourespresso. Thank you!\n",
      "Here is yourespresso. Thank you!\n",
      "What would you like to have?(espresso/latte/cappaccino):latte\n",
      "Sorry there is not enough of water,\n",
      "What would you like to have?(espresso/latte/cappaccino):espresso\n",
      "Please enter coins.\n",
      "how many quarters?:1\n",
      "how many dimes?:2\n",
      "how many nickles?:3\n",
      "how many pennies?:3\n",
      "Sorry that's not enogh money. Moeny Refunded.\n"
     ]
    }
   ],
   "source": [
    "Menu = {\n",
    "    \"espresso\": {\n",
    "        \"ingredients\": {\n",
    "            \"water\": 50,\n",
    "            \"coffee\": 18\n",
    "        },\n",
    "        \"cost\": 1.5\n",
    "    },\n",
    "    \"latte\":{\n",
    "        \"ingredients\": {\n",
    "            \"water\": 200,\n",
    "            \"milk\": 150,\n",
    "            \"coffee\": 24\n",
    "        },\n",
    "        \"cost\": 2.5\n",
    "    },\n",
    "    \"cappuccino\":{\n",
    "        \"ingredients\":{\n",
    "            \"water\": 250,\n",
    "            \"milk\": 100,\n",
    "            \"coffee\": 24\n",
    "        },\n",
    "        \"cost\": 3.0\n",
    "    }\n",
    "}\n",
    "\n",
    "profit = 0\n",
    "\n",
    "resources = {\n",
    "    \"water\": 300,\n",
    "    \"milk\": 200,\n",
    "    \"coffee\": 100\n",
    "}\n",
    "\n",
    "def is_resource_sufficient(order_ingredients):\n",
    "    for item in order_ingredients:\n",
    "        if order_ingredients[item]> resources[item]:\n",
    "            print(f\"Sorry there is not enough of {item},\")\n",
    "            return False\n",
    "    return True\n",
    "        \n",
    "def process_coins():\n",
    "    print(\"Please enter coins.\")\n",
    "    total = int(input(\"how many quarters?:\")) *0.25\n",
    "    total += int(input(\"how many dimes?:\")) *0.1\n",
    "    total += int(input(\"how many nickles?:\")) *0.05\n",
    "    total += int(input(\"how many pennies?:\")) *0.01\n",
    "    return total\n",
    "    \n",
    "def is_transaction_successful(money_received, drink_cost):\n",
    "    if money_received >= drink_cost:\n",
    "        change = round(money_received - drink_cost, 2)\n",
    "        print(f\"Here is${change} in change.\")\n",
    "        global profit\n",
    "        profit += drink_cost\n",
    "        return True\n",
    "    else: \n",
    "        print(\"Sorry that's not enogh money. Moeny Refunded.\")\n",
    "        return False\n",
    "\n",
    "def make_coffee(drink_name, order_ingredients):\n",
    "    for item in order_ingredients:\n",
    "        resources[item] -= order_ingredients[item]\n",
    "        print(f\"Here is your {drink_name}. Thank you!\")\n",
    "    \n",
    "is_on = True\n",
    "\n",
    "while is_on:\n",
    "    choice = input(\"What would you like to have?(espresso/latte/cappaccino):\")\n",
    "    if choice == \"off\":\n",
    "        is_on = False\n",
    "    elif choice == \"report\":\n",
    "        print(f\"Water:{resources['water']}ml\")\n",
    "        print(f\"Milk:{resources['milk']}ml\")\n",
    "        print(f\"Coffee:{resources['coffee']}ml\")\n",
    "        print(f\"Money:${profit}ml\")\n",
    "    else:\n",
    "        drink = Menu[choice]\n",
    "        if is_resource_sufficient(drink[\"ingredients\"]):\n",
    "            payment = process_coins()\n",
    "            if is_transaction_successful(payment, drink[\"cost\"]):\n",
    "                make_coffee(choice, drink[\"ingredients\"])"
   ]
  },
  {
   "cell_type": "code",
   "execution_count": null,
   "metadata": {},
   "outputs": [],
   "source": []
  }
 ],
 "metadata": {
  "kernelspec": {
   "display_name": "Python 3",
   "language": "python",
   "name": "python3"
  },
  "language_info": {
   "codemirror_mode": {
    "name": "ipython",
    "version": 3
   },
   "file_extension": ".py",
   "mimetype": "text/x-python",
   "name": "python",
   "nbconvert_exporter": "python",
   "pygments_lexer": "ipython3",
   "version": "3.8.5"
  }
 },
 "nbformat": 4,
 "nbformat_minor": 4
}
