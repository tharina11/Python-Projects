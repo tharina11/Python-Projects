{
 "cells": [
  {
   "cell_type": "markdown",
   "id": "f1cecbcf",
   "metadata": {},
   "source": [
    "Source: https://www.youtube.com/watch?v=g_xesqdQqvA"
   ]
  },
  {
   "cell_type": "markdown",
   "id": "5a79a875",
   "metadata": {},
   "source": [
    "### Bubble Sort"
   ]
  },
  {
   "cell_type": "markdown",
   "id": "aff9503e",
   "metadata": {},
   "source": [
    "Bubble sort algorithm take a sequence of values and orders it in ascending order. This is done by comparing two values at a given time. Iteratively, we move the highest value to the right end of the list. Once it is done, the second highest value is moved to the second from the right end and this will continue until the sequence is sorted.   "
   ]
  },
  {
   "cell_type": "code",
   "execution_count": 5,
   "id": "e8a53b96",
   "metadata": {},
   "outputs": [
    {
     "name": "stdout",
     "output_type": "stream",
     "text": [
      "[1, 3, 4, 5, 6, 7, 9]\n"
     ]
    }
   ],
   "source": [
    "def bubble_sort(num_list):\n",
    "    # Assign length of the list - 1 to a variable (there is no number after the last number of the list)\n",
    "    list_length = len(num_list) - 1\n",
    "    # When the list is sorted, this will be break the iteration below\n",
    "    sorted = False\n",
    "    # As long as the list is not sorted, perform the operation below\n",
    "    while not sorted:\n",
    "        sorted = True\n",
    "    # If an element of the list is larger than the next element, list is not sorted, then switch the positions of\n",
    "    # the elements in the list\n",
    "        for i in range(0, list_length):\n",
    "            if num_list[i] > num_list[i + 1]:\n",
    "                sorted = False\n",
    "                num_list[i], num_list[i + 1] = num_list[i + 1], num_list[i]\n",
    "    \n",
    "    return num_list\n",
    "\n",
    "print(bubble_sort([3,1,7,5,4,9,6]))"
   ]
  }
 ],
 "metadata": {
  "kernelspec": {
   "display_name": "Python 3 (ipykernel)",
   "language": "python",
   "name": "python3"
  },
  "language_info": {
   "codemirror_mode": {
    "name": "ipython",
    "version": 3
   },
   "file_extension": ".py",
   "mimetype": "text/x-python",
   "name": "python",
   "nbconvert_exporter": "python",
   "pygments_lexer": "ipython3",
   "version": "3.9.12"
  }
 },
 "nbformat": 4,
 "nbformat_minor": 5
}
