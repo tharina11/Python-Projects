{
 "cells": [
  {
   "cell_type": "markdown",
   "metadata": {},
   "source": [
    "## Problem Solving with Lists\n",
    "\n",
    "\n",
    "Solving coding problems is a great way to learn progamming. In this document, I have solved a number of coding problems based on Python lists. "
   ]
  },
  {
   "cell_type": "markdown",
   "metadata": {},
   "source": [
    "1. Find the maximum number of a list "
   ]
  },
  {
   "cell_type": "code",
   "execution_count": 1,
   "metadata": {},
   "outputs": [
    {
     "data": {
      "text/plain": [
       "9"
      ]
     },
     "execution_count": 1,
     "metadata": {},
     "output_type": "execute_result"
    }
   ],
   "source": [
    "# Define the list\n",
    "list = [1,4,5,6,8,9,7]\n",
    "\n",
    "# Find the maximum\n",
    "def findmax(list):\n",
    "        max=list[0]\n",
    "        for i in range(len(list)):\n",
    "            if max < list[i]:\n",
    "                max= list[i]\n",
    "        return max  \n",
    "findmax(list)"
   ]
  },
  {
   "cell_type": "markdown",
   "metadata": {},
   "source": [
    "2. Return values less than 4 from a list"
   ]
  },
  {
   "cell_type": "code",
   "execution_count": 2,
   "metadata": {},
   "outputs": [
    {
     "name": "stdout",
     "output_type": "stream",
     "text": [
      "1\n",
      "2\n",
      "3\n"
     ]
    }
   ],
   "source": [
    "# Define the list\n",
    "list= [1,2,3,4,5]\n",
    "\n",
    "i= list[0]\n",
    "\n",
    "def lessthan4(list):\n",
    "    \n",
    "    for i in list:\n",
    "        if i<4:\n",
    "            print (i)\n",
    "\n",
    "lessthan4(list)"
   ]
  },
  {
   "cell_type": "markdown",
   "metadata": {},
   "source": [
    "3. Find the minimum value of a list"
   ]
  },
  {
   "cell_type": "code",
   "execution_count": 3,
   "metadata": {},
   "outputs": [
    {
     "data": {
      "text/plain": [
       "-5"
      ]
     },
     "execution_count": 3,
     "metadata": {},
     "output_type": "execute_result"
    }
   ],
   "source": [
    "# Define a list\n",
    "somelist =  [1,12,2,53,-5,23,6,17] \n",
    "\n",
    "def my_min_function(somelist):# define the function\n",
    "    minval = None # initialize the variable by assigning none/zero\n",
    "    for value in somelist: # for each value in somelist\n",
    "        if not minval: # loop through\n",
    "            minval = value\n",
    "        \n",
    "        elif value < minval: # else, if the value is less than min value\n",
    "            minval = value\n",
    "        #break    \n",
    "    return minval\n",
    "my_min_function(somelist)"
   ]
  },
  {
   "cell_type": "markdown",
   "metadata": {},
   "source": [
    "4. Write a function to retrieve the second highest value with sort function "
   ]
  },
  {
   "cell_type": "code",
   "execution_count": 5,
   "metadata": {},
   "outputs": [
    {
     "data": {
      "text/plain": [
       "8"
      ]
     },
     "execution_count": 5,
     "metadata": {},
     "output_type": "execute_result"
    }
   ],
   "source": [
    "# define the list\n",
    "mylist=[3, 2,5,6,8,-2,4,5,9]\n",
    "\n",
    "def secondhigh(mylist):\n",
    "    mylist.sort()\n",
    "    #mylist.pop(mylist[-1])\n",
    "    return mylist[-2]\n",
    "secondhigh(mylist)    "
   ]
  },
  {
   "cell_type": "markdown",
   "metadata": {},
   "source": [
    "5. write a function to retrieve the middle value (in magnitude) of a list with sort function"
   ]
  },
  {
   "cell_type": "code",
   "execution_count": 6,
   "metadata": {},
   "outputs": [
    {
     "data": {
      "text/plain": [
       "-1"
      ]
     },
     "execution_count": 6,
     "metadata": {},
     "output_type": "execute_result"
    }
   ],
   "source": [
    "# Define a list\n",
    "mylist= [-55,-13,2,3,4,7,-3,-4,-6,-8,-1,6,11]\n",
    "\n",
    "# Retrieve the midvalue \n",
    "def midvalue(mylist):\n",
    "    \n",
    "       \n",
    "    mylist.sort()\n",
    "    mid=(len(mylist))/2\n",
    "    return mylist[int(mid)]\n",
    "\n",
    "midvalue(mylist)"
   ]
  },
  {
   "cell_type": "markdown",
   "metadata": {},
   "source": [
    "6. Add five to each value of the list"
   ]
  },
  {
   "cell_type": "code",
   "execution_count": 7,
   "metadata": {},
   "outputs": [
    {
     "data": {
      "text/plain": [
       "[-50, -8, 7, 8, 9, 12, 2, 1, -1, -3, 4, 11, 16]"
      ]
     },
     "execution_count": 7,
     "metadata": {},
     "output_type": "execute_result"
    }
   ],
   "source": [
    "# Define a list \n",
    "mylist= [-55,-13,2,3,4,7,-3,-4,-6,-8,-1,6,11]\n",
    "\n",
    "# Add five to each number\n",
    "def addfive(mylist):\n",
    "    #nlist=[0]\n",
    "    \n",
    "    for i in range(len(mylist)):\n",
    "        mylist[i]= mylist[i] + 5\n",
    "    return mylist\n",
    "\n",
    "addfive(mylist)"
   ]
  },
  {
   "cell_type": "markdown",
   "metadata": {},
   "source": [
    "7. Assign the second element of the list to the whole list"
   ]
  },
  {
   "cell_type": "code",
   "execution_count": 25,
   "metadata": {},
   "outputs": [
    {
     "data": {
      "text/plain": [
       "[-13, -13, -13, -13, -13, -13, -13, -13, -13, -13, -13, -13, -13]"
      ]
     },
     "execution_count": 25,
     "metadata": {},
     "output_type": "execute_result"
    }
   ],
   "source": [
    "# define a list\n",
    "mylist= [-55,-13,2,3,4,7,-3,-4,-6,-8,-1,6,11]\n",
    "\n",
    "def secele(mylist):\n",
    "    for i in range(len(mylist)):\n",
    "        mylist[i]= mylist[1]\n",
    "    return mylist\n",
    "secele(mylist)"
   ]
  },
  {
   "cell_type": "markdown",
   "metadata": {},
   "source": [
    "8. Multiply by 3 and add 1 to each element of a list using a lambda function "
   ]
  },
  {
   "cell_type": "code",
   "execution_count": 34,
   "metadata": {},
   "outputs": [
    {
     "name": "stdout",
     "output_type": "stream",
     "text": [
      "[4, 7, 10, 13, 16, 19]\n"
     ]
    }
   ],
   "source": [
    "mylist= [1,2,3,4,5,6]\n",
    "\n",
    "# lambda functions\n",
    "double = lambda x: 3*x + 1\n",
    "\n",
    "result= [*map(double,mylist)]\n",
    "print(result)"
   ]
  },
  {
   "cell_type": "markdown",
   "metadata": {},
   "source": [
    "9. Return all the values that can be divided by 2 in the list"
   ]
  },
  {
   "cell_type": "code",
   "execution_count": 116,
   "metadata": {},
   "outputs": [
    {
     "data": {
      "text/plain": [
       "[-60, -18, 7, 8, 9, 12, -8, -9, -11, -13, -6, 11, 16]"
      ]
     },
     "execution_count": 116,
     "metadata": {},
     "output_type": "execute_result"
    }
   ],
   "source": [
    "# add five to positive numbers and deduct 5 from negative numbers of the list\n",
    "mylist= [-55,-13,2,3,4,7,-3,-4,-6,-8,-1,6,11]\n",
    "\n",
    "def adddeduct(mylist):\n",
    "    for i in range(len(mylist)):\n",
    "        if mylist[i] < 0:\n",
    "            mylist[i]= mylist[i] - 5\n",
    "        elif mylist[i] > 0:\n",
    "            mylist[i]= mylist[i] + 5\n",
    "        #break\n",
    "    return mylist\n",
    "adddeduct(mylist)"
   ]
  },
  {
   "cell_type": "markdown",
   "metadata": {},
   "source": [
    "10. Return minimum and maximum values of a list"
   ]
  },
  {
   "cell_type": "code",
   "execution_count": 83,
   "metadata": {},
   "outputs": [
    {
     "data": {
      "text/plain": [
       "(-8, 8)"
      ]
     },
     "execution_count": 83,
     "metadata": {},
     "output_type": "execute_result"
    }
   ],
   "source": [
    "list= [0,1,2,5,4,8,6,-2,-8,4,5,8]\n",
    "\n",
    "def minval(list):\n",
    "    minval= list[0]# 1st element of the list\n",
    "    maxval= list[0]\n",
    "    \n",
    "    for i in list:\n",
    "        if minval > list[i]:\n",
    "            minval= list[i]\n",
    "        if maxval < list[i]:\n",
    "            maxval= list[i]\n",
    "        \n",
    "    return minval,maxval \n",
    "\n",
    "minval(list)"
   ]
  },
  {
   "cell_type": "markdown",
   "metadata": {},
   "source": [
    "11. Return all the even numbers from a list"
   ]
  },
  {
   "cell_type": "code",
   "execution_count": 4,
   "metadata": {},
   "outputs": [
    {
     "data": {
      "text/plain": [
       "[2, 4, -4, -6, -8, 6]"
      ]
     },
     "execution_count": 4,
     "metadata": {},
     "output_type": "execute_result"
    }
   ],
   "source": [
    "mylist= [-55,-13,2,3,4,7,-3,-4,-6,-8,-1,6,11]\n",
    "\n",
    "def divisible_two(lst):\n",
    "    \n",
    "    divide_two= []\n",
    "    \n",
    "    for i in lst:\n",
    "        if i%2 ==0:\n",
    "            divide_two.append(i)\n",
    "        \n",
    "    return divide_two\n",
    "\n",
    "divisible_two(mylist)"
   ]
  },
  {
   "cell_type": "markdown",
   "metadata": {},
   "source": [
    "12. Add five to every even value in the list"
   ]
  },
  {
   "cell_type": "code",
   "execution_count": 14,
   "metadata": {},
   "outputs": [
    {
     "data": {
      "text/plain": [
       "[-49, 7, 9, 1, -1, -3, 11]"
      ]
     },
     "execution_count": 14,
     "metadata": {},
     "output_type": "execute_result"
    }
   ],
   "source": [
    "mylist= [-54,-13,2,3,4,7,-3,-4,-6,-8,-1,6,11]\n",
    "\n",
    "def addfve(mylist):\n",
    "    \n",
    "    list=[]\n",
    "    \n",
    "    for i in range(len(mylist)):\n",
    "        if mylist[i]%2 == 0:\n",
    "            list.append(mylist[i] + 5)\n",
    "    return list\n",
    "\n",
    "addfve(mylist)"
   ]
  },
  {
   "cell_type": "markdown",
   "metadata": {},
   "source": [
    "13. Separate odd and even values into separate lists"
   ]
  },
  {
   "cell_type": "code",
   "execution_count": 22,
   "metadata": {},
   "outputs": [
    {
     "data": {
      "text/plain": [
       "([-54, -8, -6, -4, 2, 4, 6], [-13, -3, -1, 3, 7, 11])"
      ]
     },
     "execution_count": 22,
     "metadata": {},
     "output_type": "execute_result"
    }
   ],
   "source": [
    " \n",
    "mylist= [-54,-13,2,3,4,7,-3,-4,-6,-8,-1,6,11]\n",
    "\n",
    "\n",
    "def oddeven(mylist):\n",
    "    odd= []\n",
    "    even= []\n",
    "    \n",
    "    for i in range(len(mylist)):\n",
    "        if mylist[i]%2== 0:\n",
    "            odd.append(mylist[i])\n",
    "\n",
    "        elif mylist[i]%2== 1:\n",
    "            even.append(mylist[i])\n",
    "            \n",
    "    odd.sort()\n",
    "    even.sort()\n",
    "    return odd,even\n",
    "\n",
    "oddeven(mylist)"
   ]
  },
  {
   "cell_type": "markdown",
   "metadata": {},
   "source": [
    "14. Retrive uniqu values from a list"
   ]
  },
  {
   "cell_type": "code",
   "execution_count": 36,
   "metadata": {},
   "outputs": [
    {
     "data": {
      "text/plain": [
       "[-54, -13, 2, 3, 4, 7, -3, -4, -6, -8, -1, 6, 11]"
      ]
     },
     "execution_count": 36,
     "metadata": {},
     "output_type": "execute_result"
    }
   ],
   "source": [
    "\n",
    "mylist= [-54,-13,2,3,4,4,7,-3,-4,-6,-8,-1,6,6,11,11]\n",
    "\n",
    "def uniqval(mylist):\n",
    "    uniqval=[]\n",
    "    \n",
    "    for i in range (len(mylist)):\n",
    "        if mylist[i] not in uniqval: \n",
    "            uniqval.append(mylist[i])\n",
    "        \n",
    "        \n",
    "    return uniqval\n",
    "\n",
    "uniqval(mylist)"
   ]
  },
  {
   "cell_type": "markdown",
   "metadata": {},
   "source": [
    "15. Check if all elements of a number is binary or not"
   ]
  },
  {
   "cell_type": "code",
   "execution_count": 5,
   "metadata": {},
   "outputs": [
    {
     "name": "stdout",
     "output_type": "stream",
     "text": [
      "No\n"
     ]
    }
   ],
   "source": [
    "binary = '100212'\n",
    "\n",
    "def binarycount(binary):\n",
    "    \n",
    "    dictnary= {'0','1'}\n",
    "    count = 0\n",
    "    \n",
    "    for letter in binary:\n",
    "        if letter not in dictnary:\n",
    "            count = 1\n",
    "        else:\n",
    "            pass\n",
    "            \n",
    "            \n",
    "    if count : \n",
    "        print(\"No\") \n",
    "    else : \n",
    "        print(\"Yes\")\n",
    "\n",
    "binarycount(binary)"
   ]
  },
  {
   "cell_type": "markdown",
   "metadata": {},
   "source": [
    "16. Check the number, if, \n",
    "even and less than 8, print yes\n",
    "odd and less than 8, print no\n",
    "odd and between 12 and 20 print no\n",
    "odd and a negative number print neg"
   ]
  },
  {
   "cell_type": "code",
   "execution_count": 8,
   "metadata": {},
   "outputs": [
    {
     "data": {
      "text/plain": [
       "'no'"
      ]
     },
     "execution_count": 8,
     "metadata": {},
     "output_type": "execute_result"
    }
   ],
   "source": [
    "num= -4\n",
    "\n",
    "def numwhat(num):\n",
    "    if num%2==0 and num>8:\n",
    "        return ('yes')\n",
    "    elif num%2==1 and num<8:\n",
    "        return ('no')\n",
    "    elif num%2==1 and num> 8 or num<20:\n",
    "        return ('no')\n",
    "    elif num%2==1 and num<0:\n",
    "        return ('neg')\n",
    "\n",
    "numwhat(num)"
   ]
  },
  {
   "cell_type": "markdown",
   "metadata": {},
   "source": [
    "17. Write a function that has a list as the only parameter.\n",
    "\n",
    "     The function should add the last two elements of lst together and append the result to the list . It should do this            process three times and then return lst ."
   ]
  },
  {
   "cell_type": "code",
   "execution_count": 5,
   "metadata": {},
   "outputs": [
    {
     "data": {
      "text/plain": [
       "[1, 2, 3, 5, 8]"
      ]
     },
     "execution_count": 5,
     "metadata": {},
     "output_type": "execute_result"
    }
   ],
   "source": [
    "numbers_start = [1, 2, 3]\n",
    "\n",
    "def extend_list(list1):\n",
    "    \n",
    "    for i in range(2):\n",
    "        sum1 = list1[-1]+ list1[-2]\n",
    "        list1.append(sum1)\n",
    "        \n",
    "    return list1\n",
    "\n",
    "extend_list(numbers_start)"
   ]
  },
  {
   "cell_type": "code",
   "execution_count": null,
   "metadata": {},
   "outputs": [],
   "source": []
  }
 ],
 "metadata": {
  "kernelspec": {
   "display_name": "Python 3",
   "language": "python",
   "name": "python3"
  },
  "language_info": {
   "codemirror_mode": {
    "name": "ipython",
    "version": 3
   },
   "file_extension": ".py",
   "mimetype": "text/x-python",
   "name": "python",
   "nbconvert_exporter": "python",
   "pygments_lexer": "ipython3",
   "version": "3.8.5"
  }
 },
 "nbformat": 4,
 "nbformat_minor": 2
}
