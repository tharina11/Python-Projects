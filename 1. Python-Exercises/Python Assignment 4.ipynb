{
 "cells": [
  {
   "cell_type": "markdown",
   "metadata": {},
   "source": [
    "### Python Assignment 4"
   ]
  },
  {
   "cell_type": "markdown",
   "metadata": {},
   "source": [
    "1.1 Write a Python Program(with class concepts) to find the area of the triangle using the below\n",
    "formula.\n",
    "\n",
    "area = (s*(s-a)*(s-b)*(s-c)) ** 0.5\n",
    "\n",
    "Function to take the length of the sides of triangle from user should be defined in the parent\n",
    "class and function to calculate the area should be defined in subclass"
   ]
  },
  {
   "cell_type": "code",
   "execution_count": 16,
   "metadata": {},
   "outputs": [
    {
     "name": "stdout",
     "output_type": "stream",
     "text": [
      "a=4\n",
      "b=5\n",
      "c=6\n",
      "Area of the traingle : 9.92 units\n"
     ]
    }
   ],
   "source": [
    "class triangle_area:\n",
    "\n",
    "    def __init__(self, a, b, c): # Initializer, pointer and three variables for three sides of a triangle\n",
    "        \n",
    "        self.a = float(a) # Float used to work with decimals\n",
    "        self.b = float(b)\n",
    "        self.c = float(c)\n",
    "a= int(input(\"a=\")) # Input dimensions of triangle \n",
    "b= int(input(\"b=\"))\n",
    "c= int(input(\"c=\"))\n",
    "\n",
    "        \n",
    "class trinagle(triangle_area): # Inherit from parent triangle_area class to the child triangle class\n",
    "    def __init__(self,a,b,c):\n",
    "        super().__init__(a,b,c) # Inherit variables from the parent class\n",
    "    \n",
    "    def get_area(self): # Function to calculate area of the triangle\n",
    "        s= (a + b + c) / 2 # Semi perimeter of the triangle\n",
    "        return (s*(s-a)*(s-b)*(s-c)) ** 0.5 # Area of traingle using Heron's formula\n",
    "\n",
    "t = trinagle(a,b,c) # Create a traingle object\n",
    "print(\"Area of the traingle : {:.2f} units\".format(t.get_area())) # Print the area of the traingle with two decimal points  "
   ]
  },
  {
   "cell_type": "markdown",
   "metadata": {},
   "source": [
    "1.2 Write a function filter_long_words() that takes a list of words and an integer n and returns\n",
    "the list of words that are longer than n."
   ]
  },
  {
   "cell_type": "code",
   "execution_count": 31,
   "metadata": {},
   "outputs": [
    {
     "data": {
      "text/plain": [
       "['kuxtel', 'longestone']"
      ]
     },
     "execution_count": 31,
     "metadata": {},
     "output_type": "execute_result"
    }
   ],
   "source": [
    "words= ['gaxa', 'kuxtel', 'navid', 'Jon', 'longestone'] \n",
    "\n",
    "def filter_long_words(word): # Function to filter words\n",
    "    n = len(words) # Length of the list of words\n",
    "    long_words = [] # Empty list to append lengthy words\n",
    "    for word in words: # for each word in list of words\n",
    "        if len(word)> n: # If length of the word lagger than the number of words in the list\n",
    "            long_words.append(word) # Append the lengthy word into the long_words list\n",
    "    return long_words # Return the long_words lists after iterations\n",
    "\n",
    "filter_long_words(words) # Call the created function with the list on the top"
   ]
  },
  {
   "cell_type": "markdown",
   "metadata": {},
   "source": [
    "2.1 Write a Python program using function concept that maps list of words into a list of integers\n",
    "representing the lengths of the corresponding words.\n",
    "\n",
    "Hint: If a list [ ab,cde,erty] is passed on to the python function output should come as [2,3,4]\n",
    "Here 2,3 and 4 are the lengths of the words in the list."
   ]
  },
  {
   "cell_type": "code",
   "execution_count": 40,
   "metadata": {},
   "outputs": [
    {
     "data": {
      "text/plain": [
       "[4, 6, 5, 3, 10]"
      ]
     },
     "execution_count": 40,
     "metadata": {},
     "output_type": "execute_result"
    }
   ],
   "source": [
    "words1= ['gaxa', 'kuxtel', 'navid', 'Jon', 'longestone']\n",
    "\n",
    "def word_length(words): # World length function\n",
    "    length= [] # Empty list \n",
    "    for word in words: # For each word in the list words\n",
    "        map(length.append(len(word)), words) # Append the length of each word into the empty list\n",
    "    return length # return the list length\n",
    "    \n",
    "word_length(words1) # Aply the word length function to the list at the top"
   ]
  },
  {
   "cell_type": "markdown",
   "metadata": {},
   "source": [
    "2.2 Write a Python function which takes a character (i.e. a string of length 1) and returns True if\n",
    "it is a vowel, False otherwise."
   ]
  },
  {
   "cell_type": "code",
   "execution_count": 39,
   "metadata": {},
   "outputs": [
    {
     "data": {
      "text/plain": [
       "[False, True, False, True, False, True]"
      ]
     },
     "execution_count": 39,
     "metadata": {},
     "output_type": "execute_result"
    }
   ],
   "source": [
    "def vowel_letter(word): # Vowel letter function\n",
    "    lst = [] # Initialize an empty list\n",
    "    vowels= ['a','u','i','o','u'] # lsit of vowels in the alphabet\n",
    "    for letter in word: # For each letter in a word\n",
    "        if letter in vowels: # If the letter is in the vowels list\n",
    "            lst.append(True) # Append True into the lst\n",
    "        else:\n",
    "            lst.append(False) # Else, append False into the list\n",
    "    return lst # Return lst after iteration\n",
    "    \n",
    "vowel_letter('Nawala') # Call Function on the word Nawala"
   ]
  }
 ],
 "metadata": {
  "kernelspec": {
   "display_name": "Python 3",
   "language": "python",
   "name": "python3"
  },
  "language_info": {
   "codemirror_mode": {
    "name": "ipython",
    "version": 3
   },
   "file_extension": ".py",
   "mimetype": "text/x-python",
   "name": "python",
   "nbconvert_exporter": "python",
   "pygments_lexer": "ipython3",
   "version": "3.7.9"
  }
 },
 "nbformat": 4,
 "nbformat_minor": 4
}
