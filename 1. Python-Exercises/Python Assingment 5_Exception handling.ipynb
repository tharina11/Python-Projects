{
 "cells": [
  {
   "cell_type": "markdown",
   "metadata": {},
   "source": [
    "## Python Assignment 5"
   ]
  },
  {
   "cell_type": "markdown",
   "metadata": {},
   "source": [
    "1. Write a function to compute 5/0 and use try/except to catch the exceptions."
   ]
  },
  {
   "cell_type": "code",
   "execution_count": 1,
   "metadata": {},
   "outputs": [
    {
     "name": "stdout",
     "output_type": "stream",
     "text": [
      "Enter numerator:5\n",
      "Enter denominator:0\n",
      "Divide by Zero. Operation cannot be performed\n"
     ]
    }
   ],
   "source": [
    "def infinit(): # Define a function to\n",
    "    try:\n",
    "        a= int(input('Enter numerator:')) # Enter the numerator\n",
    "        b= int(input('Enter denominator:')) # Enter the denominator\n",
    "        res=a/b # Divide the number\n",
    "        print(res) # Print the result\n",
    "        print('Operation performed successfully')\n",
    "    except ZeroDivisionError: # If the denominator is zero\n",
    "        print(\"Divide by Zero. Operation cannot be performed\") # Print this statement\n",
    "\n",
    "infinit()"
   ]
  },
  {
   "cell_type": "markdown",
   "metadata": {},
   "source": [
    "2. Implement a Python program to generate all sentences where subject is in\n",
    "[\"Americans\", \"Indians\"] and verb is in [\"Play\", \"watch\"] and the object is in\n",
    "[\"Baseball\",\"cricket\"].\n",
    "\n",
    "##### Hint: Subject,Verb and Object should be declared in the program as shown below.\n",
    "\n",
    "subjects=[\"Americans \",\"Indians\"]\n",
    "verbs=[\"play\",\"watch\"]\n",
    "objects=[\"Baseball\",\"Cricket\"]\n",
    "\n",
    "##### Output should come as below:\n",
    "\n",
    "Americans play Baseball.\n",
    "\n",
    "Americans play Cricket.\n",
    "\n",
    "Americans watch Baseball.\n",
    "\n",
    "Americans watch Cricket.\n",
    "\n",
    "Indians play Baseball.\n",
    "\n",
    "Indians play Cricket.\n",
    "\n",
    "Indians watch Baseball.\n",
    "\n",
    "Indians watch Cricket."
   ]
  },
  {
   "cell_type": "code",
   "execution_count": 2,
   "metadata": {},
   "outputs": [
    {
     "name": "stdout",
     "output_type": "stream",
     "text": [
      "Americans play Baseball.\n",
      "Americans play Cricket.\n",
      "Americans watch Baseball.\n",
      "Americans watch Cricket.\n",
      "Indians play Baseball.\n",
      "Indians play Cricket.\n",
      "Indians watch Baseball.\n",
      "Indians watch Cricket.\n"
     ]
    }
   ],
   "source": [
    "# lists of subjects, verbs, and objects\n",
    "subjects=[\"Americans\",\"Indians\"] \n",
    "verbs=[\"play\",\"watch\"] \n",
    "objects=[\"Baseball\",\"Cricket\"]\n",
    "\n",
    "# Assign the lists above into variables a,b,c \n",
    "a,b,c = subjects,verbs,objects\n",
    "\n",
    "for i in range(len(a)): # For each element in list a\n",
    "    for j in range(len(b)): # For each element in list b nested in a\n",
    "        for k in range(len(c)): # For each element in list c nested in a and b\n",
    "            print(str(a[i]), str(b[j]), str(c[k]),end ='.\\n') # Print words at each instance new lines "
   ]
  },
  {
   "cell_type": "markdown",
   "metadata": {},
   "source": [
    "#### Using exception handling"
   ]
  },
  {
   "cell_type": "code",
   "execution_count": 3,
   "metadata": {},
   "outputs": [
    {
     "name": "stdout",
     "output_type": "stream",
     "text": [
      "Americans play Baseball\n",
      "Americans play Cricket\n",
      "Americans watch Baseball\n",
      "Americans watch Cricket\n",
      "Indians play Baseball\n",
      "Indians play Cricket\n",
      "Indians watch Baseball\n",
      "Indians watch Cricket\n"
     ]
    }
   ],
   "source": [
    "# lists of subjects, verbs, and objects\n",
    "subjects=[\"Americans\",\"Indians\"] \n",
    "verbs=[\"play\",\"watch\"] \n",
    "objects=[\"Baseball\",\"Cricket\"]\n",
    "\n",
    "# Assign the lists above into variables a,b,c \n",
    "a,b,c = subjects,verbs,objects\n",
    "while True: # \n",
    "     # Try to print the below two lines\n",
    "    try:\n",
    "        print(' '.join([str(a[0]), str(b[0]), str(c[0])]))\n",
    "        print(5/0)   \n",
    "    # If an error occured above, execute the line below\n",
    "    except:\n",
    "        print(' '.join([str(a[0]), str(b[0]), str(c[1])]))\n",
    "        # Move to the next line\n",
    "        pass \n",
    "    # Try to print the below code\n",
    "    try:\n",
    "        print(' '.join([str(a[0]), str(b[1]), str(c[0])]))\n",
    "        # Terminate the while loop\n",
    "        break \n",
    "    # Finally print this\n",
    "    finally: \n",
    "        print(' '.join([str(a[0]), str(b[1]), str(c[1])]))\n",
    "\n",
    "# Repeat the same operation to the combinations of words left\n",
    "while True:\n",
    "    try:\n",
    "        print(' '.join([str(a[1]), str(b[0]), str(c[0])]))\n",
    "        print(5/0)        \n",
    "    except:\n",
    "        print(' '.join([str(a[1]), str(b[0]), str(c[1])]))\n",
    "        pass \n",
    "    try:\n",
    "        print(' '.join([str(a[1]), str(b[1]), str(c[0])]))\n",
    "        break  \n",
    "    finally:\n",
    "        print(' '.join([str(a[1]), str(b[1]), str(c[1])]))"
   ]
  }
 ],
 "metadata": {
  "kernelspec": {
   "display_name": "Python 3",
   "language": "python",
   "name": "python3"
  },
  "language_info": {
   "codemirror_mode": {
    "name": "ipython",
    "version": 3
   },
   "file_extension": ".py",
   "mimetype": "text/x-python",
   "name": "python",
   "nbconvert_exporter": "python",
   "pygments_lexer": "ipython3",
   "version": "3.8.5"
  }
 },
 "nbformat": 4,
 "nbformat_minor": 4
}
