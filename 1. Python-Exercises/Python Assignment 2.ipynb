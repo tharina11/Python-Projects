{
 "cells": [
  {
   "cell_type": "markdown",
   "metadata": {},
   "source": [
    "## Python Assignment 2"
   ]
  },
  {
   "cell_type": "markdown",
   "metadata": {},
   "source": [
    "1. Create the below pattern using nested for loop in Python."
   ]
  },
  {
   "cell_type": "code",
   "execution_count": 1,
   "metadata": {},
   "outputs": [
    {
     "name": "stdout",
     "output_type": "stream",
     "text": [
      "* \n",
      "\n",
      "* * \n",
      "\n",
      "* * * \n",
      "\n",
      "* * * * \n",
      "\n",
      "* * * * * \n",
      "\n",
      "* * * * \n",
      "\n",
      "* * * \n",
      "\n",
      "* * \n",
      "\n",
      "* \n",
      "\n",
      "\n",
      "\n"
     ]
    }
   ],
   "source": [
    "\n",
    "for i in range(0, 5): # Print first 5 rows of stars\n",
    "    for j in range(0, i + 1): # Number of stars in each row\n",
    "        print(\"*\", end=' ') # Print stars with spaces between\n",
    "    print(\"\\n\") # Go to the first position of the next line \n",
    "\n",
    "for i in range(5, 0, -1): # Print last 4 rows of stars, range 0 to 5 in reverse order\n",
    "    for j in range(0, i - 1):\n",
    "        print(\"*\", end=' ') \n",
    "    print(\"\\n\")"
   ]
  },
  {
   "cell_type": "markdown",
   "metadata": {},
   "source": [
    "2. Write a Python program to reverse a word after accepting the input from the user.\n",
    "\n",
    "#### Sample Output:\n",
    "\n",
    "Input word: ineuron\n",
    "\n",
    "Output: norueni"
   ]
  },
  {
   "cell_type": "code",
   "execution_count": 2,
   "metadata": {},
   "outputs": [
    {
     "name": "stdout",
     "output_type": "stream",
     "text": [
      "What is your name? GEode\n",
      "Reverse word of GEode is edoEG\n"
     ]
    }
   ],
   "source": [
    "# Assign your name to the 'name' variable\n",
    "name= input(\"What is your name? \")\n",
    "\n",
    "# Generate the reverse word\n",
    "reverse= name[::-1]\n",
    "# Print the reverse word\n",
    "print(\"Reverse word of {your_name} is {reverse_name}\".format(your_name=name, reverse_name= reverse))"
   ]
  }
 ],
 "metadata": {
  "kernelspec": {
   "display_name": "Python 3",
   "language": "python",
   "name": "python3"
  },
  "language_info": {
   "codemirror_mode": {
    "name": "ipython",
    "version": 3
   },
   "file_extension": ".py",
   "mimetype": "text/x-python",
   "name": "python",
   "nbconvert_exporter": "python",
   "pygments_lexer": "ipython3",
   "version": "3.8.5"
  }
 },
 "nbformat": 4,
 "nbformat_minor": 4
}
