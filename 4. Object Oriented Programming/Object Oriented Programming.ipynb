{
 "cells": [
  {
   "cell_type": "markdown",
   "id": "2134fdf2",
   "metadata": {},
   "source": [
    "### **Object Oriented Programming with Python**\n",
    "\n",
    "Store management system using object oriented programming.\n",
    "\n",
    "The code is written to leverage knowledge on object oriented programming. Sources are cited at the end of the code."
   ]
  },
  {
   "cell_type": "code",
   "execution_count": 2,
   "id": "5bb74e4f",
   "metadata": {},
   "outputs": [],
   "source": [
    "# All these four variables are related to each other\n",
    "item1 = 'Phone'\n",
    "item1_price = 100\n",
    "item1_quantity = 5\n",
    "item1_price_total = item1_price * item1_quantity"
   ]
  },
  {
   "cell_type": "code",
   "execution_count": 3,
   "id": "df1dcb6a",
   "metadata": {},
   "outputs": [
    {
     "name": "stdout",
     "output_type": "stream",
     "text": [
      "<class 'str'>\n",
      "<class 'int'>\n",
      "<class 'int'>\n",
      "<class 'int'>\n"
     ]
    }
   ],
   "source": [
    "# These variables are instances of \n",
    "print(type(item1))\n",
    "print(type(item1_price))\n",
    "print(type(item1_quantity))\n",
    "print(type(item1_price_total))"
   ]
  },
  {
   "cell_type": "markdown",
   "id": "4053aa40",
   "metadata": {},
   "source": [
    "In Python, each data type is an instance that has been instantiated previously by some class. The variable 'item1' has been instantiated by a class with type string. others have been instantiated by a class with type integer.\n",
    "\n",
    "Let's create our own class. There are two parts in this process. First, we will create a class. Then we will instantiate objects of the class created."
   ]
  },
  {
   "cell_type": "code",
   "execution_count": null,
   "id": "c2ff2a43",
   "metadata": {},
   "outputs": [],
   "source": [
    "# Here is the class\n",
    "class Item:\n",
    "    pass\n",
    "\n",
    "# An instance of the class\n",
    "item1 = item()"
   ]
  },
  {
   "cell_type": "markdown",
   "id": "f69973f9",
   "metadata": {},
   "source": [
    "This instantiation is equivalent to creation of the object below below.\n",
    "\n",
    "random_string = str('km')"
   ]
  },
  {
   "cell_type": "code",
   "execution_count": null,
   "id": "67a4c008",
   "metadata": {},
   "outputs": [],
   "source": [
    "# Let's assign attributes to the class\n",
    "item1 = Item()\n",
    "item1 = 'Phone'\n",
    "item1.price = 100\n",
    "item1.quantity = 5"
   ]
  },
  {
   "cell_type": "markdown",
   "id": "a1b49bb9",
   "metadata": {},
   "source": [
    "Here we have an actual relationship in these four lines."
   ]
  },
  {
   "cell_type": "markdown",
   "id": "2800593e",
   "metadata": {},
   "source": [
    "#### **Reference**\n",
    "\n",
    "- [Object Oriented Programming with Python]((https://www.youtube.com/watch?v=Ej_02ICOIgs&ab_channel=freeCodeCamp.org))"
   ]
  }
 ],
 "metadata": {
  "kernelspec": {
   "display_name": "Python 3 (ipykernel)",
   "language": "python",
   "name": "python3"
  },
  "language_info": {
   "codemirror_mode": {
    "name": "ipython",
    "version": 3
   },
   "file_extension": ".py",
   "mimetype": "text/x-python",
   "name": "python",
   "nbconvert_exporter": "python",
   "pygments_lexer": "ipython3",
   "version": "3.10.9"
  }
 },
 "nbformat": 4,
 "nbformat_minor": 5
}
