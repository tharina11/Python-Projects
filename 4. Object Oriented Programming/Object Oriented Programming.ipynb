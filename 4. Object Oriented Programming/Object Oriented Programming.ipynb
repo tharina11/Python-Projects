{
 "cells": [
  {
   "cell_type": "markdown",
   "id": "72be465e",
   "metadata": {},
   "source": [
    "### **Object Oriented Programming with Python**\n",
    "\n",
    "Store management system using object oriented programming.\n",
    "\n",
    "The code is written to leverage knowledge on object oriented programming. Sources are cited at the end of the code."
   ]
  },
  {
   "cell_type": "code",
   "execution_count": 1,
   "id": "80403dcd",
   "metadata": {},
   "outputs": [],
   "source": [
    "# All these four variables are related to each other\n",
    "item1 = 'Phone'\n",
    "item1_price = 100\n",
    "item1_quantity = 5\n",
    "item1_price_total = item1_price * item1_quantity"
   ]
  },
  {
   "cell_type": "code",
   "execution_count": 2,
   "id": "5bc9a433",
   "metadata": {},
   "outputs": [
    {
     "name": "stdout",
     "output_type": "stream",
     "text": [
      "<class 'str'>\n",
      "<class 'int'>\n",
      "<class 'int'>\n",
      "<class 'int'>\n"
     ]
    }
   ],
   "source": [
    "# These variables are instances of \n",
    "print(type(item1))\n",
    "print(type(item1_price))\n",
    "print(type(item1_quantity))\n",
    "print(type(item1_price_total))"
   ]
  },
  {
   "cell_type": "markdown",
   "id": "bbe3a7af",
   "metadata": {},
   "source": [
    "In Python, each data type is an instance that has been instantiated previously by some class. The variable 'item1' has been instantiated by a class with type string. others have been instantiated by a class with type integer.\n",
    "\n",
    "Let's create our own class. There are two parts in this process. First, we will create a class. Then we will instantiate objects of the class created."
   ]
  },
  {
   "cell_type": "code",
   "execution_count": 8,
   "id": "6d2d4341",
   "metadata": {},
   "outputs": [],
   "source": [
    "# Here is the class\n",
    "class Item:\n",
    "    pass\n",
    "\n",
    "# An instance of the class\n",
    "item1 = Item()\n",
    "\n",
    "# Let's assign attributes to the class\n",
    "item1 = Item()\n",
    "item1.name = 'Phone'\n",
    "item1.price = 100\n",
    "item1.quantity = 5"
   ]
  },
  {
   "cell_type": "markdown",
   "id": "74e6eb91",
   "metadata": {},
   "source": [
    "This instantiation is equivalent to creation of the object below below.\n",
    "\n",
    "random_string = str('km')\n",
    "\n",
    "Here we have an actual relationship in these four lines. All these attribute are related to one instance of the class."
   ]
  },
  {
   "cell_type": "code",
   "execution_count": 9,
   "id": "b5efd6fe",
   "metadata": {
    "scrolled": true
   },
   "outputs": [
    {
     "name": "stdout",
     "output_type": "stream",
     "text": [
      "<class '__main__.Item'>\n",
      "<class 'str'>\n",
      "<class 'int'>\n",
      "<class 'int'>\n"
     ]
    }
   ],
   "source": [
    "print(type(item1))\n",
    "print(type(item1.name))\n",
    "print(type(item1.price))\n",
    "print(type(item1.quantity))"
   ]
  },
  {
   "cell_type": "markdown",
   "id": "94099526",
   "metadata": {},
   "source": [
    "Now we have a new data type called 'Item', which we created in the previous cell.\n",
    "\n",
    "\n",
    "**Methods**\n",
    "Previous section was about how to add attributes to instances. Let's look at how to add methods to instances and execute them.\n"
   ]
  },
  {
   "cell_type": "code",
   "execution_count": 12,
   "id": "9de4a7bc",
   "metadata": {},
   "outputs": [
    {
     "name": "stdout",
     "output_type": "stream",
     "text": [
      "AAA\n"
     ]
    }
   ],
   "source": [
    "# A instance of the string class\n",
    "random_str = \"aaa\"\n",
    "print(random_str.upper())"
   ]
  },
  {
   "cell_type": "markdown",
   "id": "5128f44b",
   "metadata": {},
   "source": [
    "Let's go inside the class we created previously and write some methods that will be accessible using instances of the class. Methods are functions inside classes. We use $def$ keyword to create functions. But when you create functions inside a class, those are called methods. "
   ]
  },
  {
   "cell_type": "code",
   "execution_count": 13,
   "id": "9add163a",
   "metadata": {},
   "outputs": [],
   "source": [
    "# Let's assign attributes to the class\n",
    "item1 = Item()\n",
    "item1.name = 'Phone'\n",
    "item1.price = 100\n",
    "item1.quantity = 5\n",
    "\n",
    "item2 = Item()\n",
    "item2.name = 'Laptop'\n",
    "item2.price = 1000\n",
    "item2.quantity = 3"
   ]
  },
  {
   "cell_type": "code",
   "execution_count": null,
   "id": "ef3bcb23",
   "metadata": {},
   "outputs": [],
   "source": [
    "class Item:\n",
    "    def calculate_total_price(self):"
   ]
  },
  {
   "cell_type": "markdown",
   "id": "a4b0710f",
   "metadata": {},
   "source": [
    "Python passes the object itself as the first argument when we call methods. For example, if wee call a method from an instance (**'item1.calculate_total_price()**), Python first passes the object itself (**item1**) into the method everytime. Therefore we cannot create a method that does not receive parameters in Python."
   ]
  },
  {
   "cell_type": "code",
   "execution_count": 5,
   "id": "93f5f278",
   "metadata": {},
   "outputs": [
    {
     "ename": "TypeError",
     "evalue": "Item.calculate_total_price() takes 0 positional arguments but 1 was given",
     "output_type": "error",
     "traceback": [
      "\u001b[0;31m---------------------------------------------------------------------------\u001b[0m",
      "\u001b[0;31mTypeError\u001b[0m                                 Traceback (most recent call last)",
      "Cell \u001b[0;32mIn[5], line 5\u001b[0m\n\u001b[1;32m      2\u001b[0m     \u001b[38;5;28;01mdef\u001b[39;00m \u001b[38;5;21mcalculate_total_price\u001b[39m():\n\u001b[1;32m      3\u001b[0m         \u001b[38;5;28;01mpass\u001b[39;00m\n\u001b[0;32m----> 5\u001b[0m \u001b[43mitem1\u001b[49m\u001b[38;5;241;43m.\u001b[39;49m\u001b[43mcalculate_total_price\u001b[49m\u001b[43m(\u001b[49m\u001b[43m)\u001b[49m\n",
      "\u001b[0;31mTypeError\u001b[0m: Item.calculate_total_price() takes 0 positional arguments but 1 was given"
     ]
    }
   ],
   "source": [
    "class Item:\n",
    "    def calculate_total_price():\n",
    "        pass\n",
    "\n",
    "item1.calculate_total_price()"
   ]
  },
  {
   "cell_type": "markdown",
   "id": "0a0bace8",
   "metadata": {},
   "source": [
    "This error **TypeError: Item.calculate_total_price() takes 0 positional arguments but 1 was given** explains the problem of not passing self into the method. The method is not set to receive a positional argument, but Python tries to pass one positional argument. Which is the instance itself (item1).\n",
    "\n",
    "This is why you have to pass atleast one parameter, when you create a method. As a common practice we use $self$ to indicate the first argument (and it is reccommended to use this convention), but we can use any word here.  \n"
   ]
  },
  {
   "cell_type": "code",
   "execution_count": 7,
   "id": "9ad2d749",
   "metadata": {},
   "outputs": [],
   "source": [
    "class Item:\n",
    "    def calculate_total_price(self):\n",
    "        pass\n",
    "item1 = Item()\n",
    "item1.calculate_total_price()"
   ]
  },
  {
   "cell_type": "markdown",
   "id": "3bdf2ad5",
   "metadata": {},
   "source": [
    "Now the type error is fixed.\n",
    "\n",
    "Let's add more parameters into the method."
   ]
  },
  {
   "cell_type": "code",
   "execution_count": 11,
   "id": "eb163ef5",
   "metadata": {},
   "outputs": [
    {
     "data": {
      "text/plain": [
       "500"
      ]
     },
     "execution_count": 11,
     "metadata": {},
     "output_type": "execute_result"
    }
   ],
   "source": [
    "class Item:\n",
    "    def calculate_total_price(self, x, y):\n",
    "        return x *y\n",
    "    \n",
    "item1 = Item()\n",
    "item1.name = 'Phone'\n",
    "item1.price = 100\n",
    "item1.quantity = 5\n",
    "\n",
    "item1.calculate_total_price(item1.price, item1.quantity)"
   ]
  },
  {
   "cell_type": "markdown",
   "id": "e8849e5a",
   "metadata": {},
   "source": [
    "We have hard coded attributes for each instance so far. It would be great if we can set that declare that in order to instantiate a class, we must set the attribute, otherwise we could not create the instance successfully (execute something in the background when we create the class). We use **\\__init__** method for that. This term is a constructor. The constructor should be called intentionally in order to use it's special features."
   ]
  },
  {
   "cell_type": "code",
   "execution_count": 2,
   "id": "254fb68d",
   "metadata": {},
   "outputs": [
    {
     "name": "stdout",
     "output_type": "stream",
     "text": [
      "I am created\n",
      "I am created\n"
     ]
    }
   ],
   "source": [
    "class Item:\n",
    "    def __init__(self):\n",
    "        print('I am created')        \n",
    "    def calculate_total_price(self, x, y):\n",
    "        return x *y\n",
    "    \n",
    "item1 = Item()\n",
    "item1.name = 'Phone'\n",
    "item1.price = 100\n",
    "item1.quantity = 5\n",
    "\n",
    "item2 = Item()\n",
    "item2.name = 'Laptop'\n",
    "item2.price = 1000\n",
    "item2.quantity = 3"
   ]
  },
  {
   "cell_type": "markdown",
   "id": "a865643d",
   "metadata": {},
   "source": [
    "Now the **\\__init__** method is created. When we create a new instance with the class Item, Python executes the init function automatically (as it printed 'I am created').  "
   ]
  },
  {
   "cell_type": "code",
   "execution_count": null,
   "id": "47d2941b",
   "metadata": {},
   "outputs": [],
   "source": []
  },
  {
   "cell_type": "markdown",
   "id": "3645f3b7",
   "metadata": {},
   "source": [
    "#### **Reference**\n",
    "\n",
    "- [Object Oriented Programming with Python](https://www.youtube.com/watch?v=Ej_02ICOIgs&ab_channel=freeCodeCamp.org)"
   ]
  }
 ],
 "metadata": {
  "kernelspec": {
   "display_name": "Python 3 (ipykernel)",
   "language": "python",
   "name": "python3"
  },
  "language_info": {
   "codemirror_mode": {
    "name": "ipython",
    "version": 3
   },
   "file_extension": ".py",
   "mimetype": "text/x-python",
   "name": "python",
   "nbconvert_exporter": "python",
   "pygments_lexer": "ipython3",
   "version": "3.10.9"
  }
 },
 "nbformat": 4,
 "nbformat_minor": 5
}
