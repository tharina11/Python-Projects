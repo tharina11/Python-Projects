{
 "cells": [
  {
   "cell_type": "markdown",
   "id": "72be465e",
   "metadata": {},
   "source": [
    "### **Object Oriented Programming with Python**\n",
    "\n",
    "Store management system using object oriented programming.\n",
    "\n",
    "The code is written to leverage knowledge on object oriented programming. Sources are cited at the end of the code."
   ]
  },
  {
   "cell_type": "code",
   "execution_count": 1,
   "id": "80403dcd",
   "metadata": {},
   "outputs": [],
   "source": [
    "# All these four variables are related to each other\n",
    "item1 = 'Phone'\n",
    "item1_price = 100\n",
    "item1_quantity = 5\n",
    "item1_price_total = item1_price * item1_quantity"
   ]
  },
  {
   "cell_type": "code",
   "execution_count": 2,
   "id": "5bc9a433",
   "metadata": {},
   "outputs": [
    {
     "name": "stdout",
     "output_type": "stream",
     "text": [
      "<class 'str'>\n",
      "<class 'int'>\n",
      "<class 'int'>\n",
      "<class 'int'>\n"
     ]
    }
   ],
   "source": [
    "# These variables are instances of \n",
    "print(type(item1))\n",
    "print(type(item1_price))\n",
    "print(type(item1_quantity))\n",
    "print(type(item1_price_total))"
   ]
  },
  {
   "cell_type": "markdown",
   "id": "bbe3a7af",
   "metadata": {},
   "source": [
    "In Python, each data type is an instance that has been instantiated previously by some class. The variable 'item1' has been instantiated by a class with type string. others have been instantiated by a class with type integer.\n",
    "\n",
    "Let's create our own class. There are two parts in this process. First, we will create a class. Then we will instantiate objects of the class created."
   ]
  },
  {
   "cell_type": "code",
   "execution_count": 3,
   "id": "6d2d4341",
   "metadata": {},
   "outputs": [],
   "source": [
    "# Here is the class\n",
    "class Item:\n",
    "    pass\n",
    "\n",
    "# An instance of the class\n",
    "item1 = Item()\n",
    "\n",
    "# Let's assign attributes to the class\n",
    "item1 = Item()\n",
    "item1.name = 'Phone'\n",
    "item1.price = 100\n",
    "item1.quantity = 5"
   ]
  },
  {
   "cell_type": "markdown",
   "id": "74e6eb91",
   "metadata": {},
   "source": [
    "This instantiation is equivalent to creation of the object below below.\n",
    "\n",
    "random_string = str('km')\n",
    "\n",
    "Here we have an actual relationship in these four lines. All these attribute are related to one instance of the class."
   ]
  },
  {
   "cell_type": "code",
   "execution_count": 4,
   "id": "b5efd6fe",
   "metadata": {
    "scrolled": true
   },
   "outputs": [
    {
     "name": "stdout",
     "output_type": "stream",
     "text": [
      "<class '__main__.Item'>\n",
      "<class 'str'>\n",
      "<class 'int'>\n",
      "<class 'int'>\n"
     ]
    }
   ],
   "source": [
    "print(type(item1))\n",
    "print(type(item1.name))\n",
    "print(type(item1.price))\n",
    "print(type(item1.quantity))"
   ]
  },
  {
   "cell_type": "markdown",
   "id": "94099526",
   "metadata": {},
   "source": [
    "Now we have a new data type called 'Item', which we created in the previous cell.\n",
    "\n",
    "\n",
    "**Methods**\n",
    "Previous section was about how to add attributes to instances. Let's look at how to add methods to instances and execute them.\n"
   ]
  },
  {
   "cell_type": "code",
   "execution_count": 5,
   "id": "9de4a7bc",
   "metadata": {},
   "outputs": [
    {
     "name": "stdout",
     "output_type": "stream",
     "text": [
      "AAA\n"
     ]
    }
   ],
   "source": [
    "# A instance of the string class\n",
    "random_str = \"aaa\"\n",
    "print(random_str.upper())"
   ]
  },
  {
   "cell_type": "markdown",
   "id": "5128f44b",
   "metadata": {},
   "source": [
    "Let's go inside the class we created previously and write some methods that will be accessible using instances of the class. Methods are functions inside classes. We use $def$ keyword to create functions. But when you create functions inside a class, those are called methods. "
   ]
  },
  {
   "cell_type": "code",
   "execution_count": 6,
   "id": "9add163a",
   "metadata": {},
   "outputs": [],
   "source": [
    "# Let's assign attributes to the class\n",
    "item1 = Item()\n",
    "item1.name = 'Phone'\n",
    "item1.price = 100\n",
    "item1.quantity = 5\n",
    "\n",
    "item2 = Item()\n",
    "item2.name = 'Laptop'\n",
    "item2.price = 1000\n",
    "item2.quantity = 3"
   ]
  },
  {
   "cell_type": "code",
   "execution_count": 7,
   "id": "ef3bcb23",
   "metadata": {},
   "outputs": [
    {
     "ename": "SyntaxError",
     "evalue": "incomplete input (1674181099.py, line 2)",
     "output_type": "error",
     "traceback": [
      "\u001b[0;36m  Cell \u001b[0;32mIn[7], line 2\u001b[0;36m\u001b[0m\n\u001b[0;31m    def calculate_total_price(self):\u001b[0m\n\u001b[0m                                    ^\u001b[0m\n\u001b[0;31mSyntaxError\u001b[0m\u001b[0;31m:\u001b[0m incomplete input\n"
     ]
    }
   ],
   "source": [
    "class Item:\n",
    "    def calculate_total_price(self):"
   ]
  },
  {
   "cell_type": "markdown",
   "id": "a4b0710f",
   "metadata": {},
   "source": [
    "Python passes the object itself as the first argument when we call methods. For example, if wee call a method from an instance (**'item1.calculate_total_price()**), Python first passes the object itself (**item1**) into the method everytime. Therefore we cannot create a method that does not receive parameters in Python."
   ]
  },
  {
   "cell_type": "code",
   "execution_count": 8,
   "id": "93f5f278",
   "metadata": {},
   "outputs": [
    {
     "ename": "AttributeError",
     "evalue": "'Item' object has no attribute 'calculate_total_price'",
     "output_type": "error",
     "traceback": [
      "\u001b[0;31m---------------------------------------------------------------------------\u001b[0m",
      "\u001b[0;31mAttributeError\u001b[0m                            Traceback (most recent call last)",
      "Cell \u001b[0;32mIn[8], line 5\u001b[0m\n\u001b[1;32m      2\u001b[0m     \u001b[38;5;28;01mdef\u001b[39;00m \u001b[38;5;21mcalculate_total_price\u001b[39m():\n\u001b[1;32m      3\u001b[0m         \u001b[38;5;28;01mpass\u001b[39;00m\n\u001b[0;32m----> 5\u001b[0m \u001b[43mitem1\u001b[49m\u001b[38;5;241;43m.\u001b[39;49m\u001b[43mcalculate_total_price\u001b[49m()\n",
      "\u001b[0;31mAttributeError\u001b[0m: 'Item' object has no attribute 'calculate_total_price'"
     ]
    }
   ],
   "source": [
    "class Item:\n",
    "    def calculate_total_price():\n",
    "        pass\n",
    "\n",
    "item1.calculate_total_price()"
   ]
  },
  {
   "cell_type": "markdown",
   "id": "0a0bace8",
   "metadata": {},
   "source": [
    "This error **TypeError: Item.calculate_total_price() takes 0 positional arguments but 1 was given** explains the problem of not passing self into the method. The method is not set to receive a positional argument, but Python tries to pass one positional argument. Which is the instance itself (item1).\n",
    "\n",
    "This is why you have to pass atleast one parameter, when you create a method. As a common practice we use $self$ to indicate the first argument (and it is reccommended to use this convention), but we can use any word here.  \n"
   ]
  },
  {
   "cell_type": "code",
   "execution_count": 9,
   "id": "9ad2d749",
   "metadata": {},
   "outputs": [],
   "source": [
    "class Item:\n",
    "    def calculate_total_price(self):\n",
    "        pass\n",
    "item1 = Item()\n",
    "item1.calculate_total_price()"
   ]
  },
  {
   "cell_type": "markdown",
   "id": "3bdf2ad5",
   "metadata": {},
   "source": [
    "Now the type error is fixed.\n",
    "\n",
    "Let's add more parameters into the method."
   ]
  },
  {
   "cell_type": "code",
   "execution_count": 10,
   "id": "eb163ef5",
   "metadata": {},
   "outputs": [
    {
     "data": {
      "text/plain": [
       "500"
      ]
     },
     "execution_count": 10,
     "metadata": {},
     "output_type": "execute_result"
    }
   ],
   "source": [
    "class Item:\n",
    "    def calculate_total_price(self, x, y):\n",
    "        return x *y\n",
    "    \n",
    "item1 = Item()\n",
    "item1.name = 'Phone'\n",
    "item1.price = 100\n",
    "item1.quantity = 5\n",
    "\n",
    "item1.calculate_total_price(item1.price, item1.quantity)"
   ]
  },
  {
   "cell_type": "markdown",
   "id": "e8849e5a",
   "metadata": {},
   "source": [
    "We have hard coded attributes for each instance so far. It would be great if we can set that declare that in order to instantiate a class, we must set the attribute, otherwise we could not create the instance successfully (execute something in the background when we create the class). We use **\\__init__** method for that. This term is a constructor. The constructor should be called intentionally in order to use it's special features."
   ]
  },
  {
   "cell_type": "code",
   "execution_count": 11,
   "id": "254fb68d",
   "metadata": {},
   "outputs": [
    {
     "name": "stdout",
     "output_type": "stream",
     "text": [
      "I am created\n",
      "I am created\n"
     ]
    }
   ],
   "source": [
    "class Item:\n",
    "    def __init__(self):\n",
    "        print('I am created')        \n",
    "    def calculate_total_price(self, x, y):\n",
    "        return x *y\n",
    "    \n",
    "item1 = Item()\n",
    "item1.name = 'Phone'\n",
    "item1.price = 100\n",
    "item1.quantity = 5\n",
    "\n",
    "item2 = Item()\n",
    "item2.name = 'Laptop'\n",
    "item2.price = 1000\n",
    "item2.quantity = 3"
   ]
  },
  {
   "cell_type": "markdown",
   "id": "a865643d",
   "metadata": {},
   "source": [
    "Now the **\\__init__** method is created. When we create a new instance with the class Item, Python executes the init function automatically (as it printed 'I am created').  "
   ]
  },
  {
   "cell_type": "code",
   "execution_count": 12,
   "id": "47d2941b",
   "metadata": {},
   "outputs": [
    {
     "name": "stdout",
     "output_type": "stream",
     "text": [
      "An instance created: Phone\n",
      "An instance created: Laptop\n"
     ]
    }
   ],
   "source": [
    "class Item:\n",
    "    def __init__(self, name):\n",
    "        print(f'An instance created: {name}')        \n",
    "    def calculate_total_price(self, x, y):\n",
    "        return x * y\n",
    "    \n",
    "item1 = Item('Phone')\n",
    "item1.name = 'Phone'\n",
    "item1.price = 100\n",
    "item1.quantity = 5\n",
    "\n",
    "item2 = Item('Laptop')\n",
    "item2.name = 'Laptop'\n",
    "item2.price = 1000\n",
    "item2.quantity = 3"
   ]
  },
  {
   "cell_type": "markdown",
   "id": "f0639552",
   "metadata": {},
   "source": [
    "We can dynamically assign an attribute to an instance from the magic method **\\__init__**."
   ]
  },
  {
   "cell_type": "code",
   "execution_count": 2,
   "id": "34bc1ff6",
   "metadata": {},
   "outputs": [
    {
     "name": "stdout",
     "output_type": "stream",
     "text": [
      "Phone\n",
      "Laptop\n"
     ]
    }
   ],
   "source": [
    "class Item:\n",
    "    def __init__(self, name):\n",
    "        self.name = name\n",
    "    def calculate_total_price(self, x, y):\n",
    "        return x * y\n",
    "    \n",
    "item1 = Item('Phone')\n",
    "item1.price = 100\n",
    "item1.quantity = 5\n",
    "\n",
    "item2 = Item('Laptop')\n",
    "item2.price = 1000\n",
    "item2.quantity = 3\n",
    "\n",
    "\n",
    "print(item1.name)\n",
    "print(item2.name)"
   ]
  },
  {
   "cell_type": "markdown",
   "id": "395c80b4",
   "metadata": {},
   "source": [
    "Let's assign all attribute dynamically with the magic method **\\__init__**. You should always take care of the attributes that you need to assign to an object **inside** the constructor."
   ]
  },
  {
   "cell_type": "code",
   "execution_count": 4,
   "id": "7d7b2f7d",
   "metadata": {},
   "outputs": [
    {
     "name": "stdout",
     "output_type": "stream",
     "text": [
      "Phone\n",
      "Laptop\n",
      "100\n",
      "1000\n",
      "5\n",
      "3\n"
     ]
    }
   ],
   "source": [
    "# Dynamic attributes\n",
    "class Item:\n",
    "    def __init__(self, name, price, quantity):\n",
    "        self.name = name\n",
    "        self.price = price\n",
    "        self.quantity = quantity\n",
    "    def calculate_total_price(self, x, y):\n",
    "        return x * y\n",
    "\n",
    "item1 = Item('Phone', 100, 5)\n",
    "\n",
    "item2 = Item('Laptop', 1000, 3)\n",
    "    \n",
    "print(item1.name)\n",
    "print(item2.name)\n",
    "print(item1.price)\n",
    "print(item2.price)\n",
    "print(item1.quantity)\n",
    "print(item2.quantity)"
   ]
  },
  {
   "cell_type": "markdown",
   "id": "135966b0",
   "metadata": {},
   "source": [
    "If we need to set a parameter to a constant value, you can set it to that value within the constructor."
   ]
  },
  {
   "cell_type": "code",
   "execution_count": 6,
   "id": "10aa95da",
   "metadata": {},
   "outputs": [
    {
     "name": "stdout",
     "output_type": "stream",
     "text": [
      "Phone\n",
      "Laptop\n",
      "100\n",
      "1000\n",
      "0\n",
      "0\n"
     ]
    }
   ],
   "source": [
    "class Item:\n",
    "    def __init__(self, name, price, quantity=0):\n",
    "        self.name = name\n",
    "        self.price = price\n",
    "        self.quantity = quantity\n",
    "    def calculate_total_price(self, x, y):\n",
    "        return x * y\n",
    "\n",
    "item1 = Item('Phone', 100)\n",
    "\n",
    "item2 = Item('Laptop', 1000)\n",
    "    \n",
    "print(item1.name)\n",
    "print(item2.name)\n",
    "print(item1.price)\n",
    "print(item2.price)\n",
    "print(item1.quantity)\n",
    "print(item2.quantity)"
   ]
  },
  {
   "cell_type": "markdown",
   "id": "9ee91bf6",
   "metadata": {},
   "source": [
    "We can assign attributes to specific instances individually.\n",
    "\n",
    "Some Laptops have number pads in keyboard and some does not. Number pad is not an attribute that is relevant to smart phones. So we can need the attribute numpad only in Laptops. "
   ]
  },
  {
   "cell_type": "code",
   "execution_count": 1,
   "id": "fa9e1bb0",
   "metadata": {},
   "outputs": [],
   "source": [
    "class Item:\n",
    "    def __init__(self, name, price, quantity=0):\n",
    "        self.name = name\n",
    "        self.price = price\n",
    "        self.quantity = quantity\n",
    "        \n",
    "    def calculate_total_price(self, x, y):\n",
    "        return x * y\n",
    "\n",
    "item1 = Item('Phone', 100)\n",
    "\n",
    "item2 = Item('Laptop', 1000)\n",
    "\n",
    "item2.has_numpad = False"
   ]
  },
  {
   "cell_type": "markdown",
   "id": "c1ebe4fc",
   "metadata": {},
   "source": [
    "So we can add attributes to a particular instance, even after the instantiation of instances of the class.\n",
    "\n",
    "For each method that we define in classes, the object itself (self) is passed as an argument. So we can update the method in the class above as below.\n",
    "\n"
   ]
  },
  {
   "cell_type": "code",
   "execution_count": 11,
   "id": "f9eb5bc8",
   "metadata": {},
   "outputs": [],
   "source": [
    "# Dynamic method\n",
    "class Item:\n",
    "    def __init__(self, name, price, quantity=0):\n",
    "        self.name = name\n",
    "        self.price = price\n",
    "        self.quantity = quantity\n",
    "        \n",
    "    def calculate_total_price(self):\n",
    "        return self.price * self.quantity\n",
    "\n",
    "item1 = Item('Phone', 100, 5)\n",
    "\n",
    "item2 = Item('Laptop', 1000, 3)\n"
   ]
  },
  {
   "cell_type": "markdown",
   "id": "bb4b1db2",
   "metadata": {},
   "source": [
    "We do not need to pass the attributes again to the method. Once the class is initialized with the attributes, we have the access to the attributes throughout all the methods that will be added to the class. Though the quantity is set to zero above, we can assign values in the instance later to the quantity."
   ]
  },
  {
   "cell_type": "code",
   "execution_count": 12,
   "id": "92b44e34",
   "metadata": {},
   "outputs": [
    {
     "name": "stdout",
     "output_type": "stream",
     "text": [
      "500\n",
      "3000\n"
     ]
    }
   ],
   "source": [
    "print(item1.calculate_total_price())\n",
    "print(item2.calculate_total_price())"
   ]
  },
  {
   "cell_type": "markdown",
   "id": "db31da5e",
   "metadata": {},
   "source": [
    "We have to validate the data type that we pass in. otherwise the output of the methods would be wrong."
   ]
  },
  {
   "cell_type": "code",
   "execution_count": 14,
   "id": "bf1005b9",
   "metadata": {},
   "outputs": [
    {
     "name": "stdout",
     "output_type": "stream",
     "text": [
      "100100100100100\n",
      "3000\n"
     ]
    }
   ],
   "source": [
    "class Item:\n",
    "    def __init__(self, name, price, quantity=0):\n",
    "        self.name = name\n",
    "        self.price = price\n",
    "        self.quantity = quantity\n",
    "        \n",
    "    def calculate_total_price(self):\n",
    "        return self.price * self.quantity\n",
    "\n",
    "item1 = Item('Phone', '100', 5)\n",
    "item2 = Item('Laptop', 1000, 3)\n",
    "\n",
    "print(item1.calculate_total_price())\n",
    "print(item2.calculate_total_price())"
   ]
  },
  {
   "cell_type": "markdown",
   "id": "2457aaa3",
   "metadata": {},
   "source": [
    "Let's define the data type during the initialization. Because we have already passed an integer value to the parameter quantity, it is not necessary to define the data type."
   ]
  },
  {
   "cell_type": "code",
   "execution_count": 29,
   "id": "0505fee5",
   "metadata": {},
   "outputs": [],
   "source": [
    "class Item:\n",
    "    def __init__(self, name: int, price: float, quantity=0):\n",
    "        self.name = name\n",
    "        self.price = price\n",
    "        self.quantity = quantity\n",
    "        \n",
    "    def calculate_total_price(self):\n",
    "        return self.price * self.quantity"
   ]
  },
  {
   "cell_type": "code",
   "execution_count": 30,
   "id": "704e51fe",
   "metadata": {},
   "outputs": [],
   "source": [
    "item1 = Item('Phone', '100', 5)\n",
    "item2 = Item('Laptop', 1000, 3)"
   ]
  },
  {
   "cell_type": "code",
   "execution_count": 32,
   "id": "f9ad5b6e",
   "metadata": {},
   "outputs": [
    {
     "name": "stdout",
     "output_type": "stream",
     "text": [
      "<class 'str'>\n",
      "<class 'int'>\n"
     ]
    }
   ],
   "source": [
    "# Validate this\n",
    "print(type(item1.price)),\n",
    "print(type(item2.price))"
   ]
  },
  {
   "cell_type": "markdown",
   "id": "9d0a4294",
   "metadata": {},
   "source": [
    "Assume that you never want to receive negative values for price and quantity. Validate the values assigned to the attributes in the objects using the assert statement keyword."
   ]
  },
  {
   "cell_type": "code",
   "execution_count": 25,
   "id": "602e951d",
   "metadata": {},
   "outputs": [
    {
     "ename": "AssertionError",
     "evalue": "",
     "output_type": "error",
     "traceback": [
      "\u001b[0;31m---------------------------------------------------------------------------\u001b[0m",
      "\u001b[0;31mAssertionError\u001b[0m                            Traceback (most recent call last)",
      "Cell \u001b[0;32mIn[25], line 15\u001b[0m\n\u001b[1;32m     12\u001b[0m     \u001b[38;5;28;01mdef\u001b[39;00m \u001b[38;5;21mcalculate_total_price\u001b[39m(\u001b[38;5;28mself\u001b[39m):\n\u001b[1;32m     13\u001b[0m         \u001b[38;5;28;01mreturn\u001b[39;00m \u001b[38;5;28mself\u001b[39m\u001b[38;5;241m.\u001b[39mprice \u001b[38;5;241m*\u001b[39m \u001b[38;5;28mself\u001b[39m\u001b[38;5;241m.\u001b[39mquantity\n\u001b[0;32m---> 15\u001b[0m item1 \u001b[38;5;241m=\u001b[39m \u001b[43mItem\u001b[49m\u001b[43m(\u001b[49m\u001b[38;5;124;43m'\u001b[39;49m\u001b[38;5;124;43mPhone\u001b[39;49m\u001b[38;5;124;43m'\u001b[39;49m\u001b[43m,\u001b[49m\u001b[43m \u001b[49m\u001b[38;5;241;43m100\u001b[39;49m\u001b[43m,\u001b[49m\u001b[43m \u001b[49m\u001b[38;5;241;43m-\u001b[39;49m\u001b[38;5;241;43m5\u001b[39;49m\u001b[43m)\u001b[49m\n\u001b[1;32m     16\u001b[0m item2 \u001b[38;5;241m=\u001b[39m Item(\u001b[38;5;124m'\u001b[39m\u001b[38;5;124mLaptop\u001b[39m\u001b[38;5;124m'\u001b[39m, \u001b[38;5;241m1000\u001b[39m, \u001b[38;5;241m3\u001b[39m)\n",
      "Cell \u001b[0;32mIn[25], line 5\u001b[0m, in \u001b[0;36mItem.__init__\u001b[0;34m(self, name, price, quantity)\u001b[0m\n\u001b[1;32m      2\u001b[0m \u001b[38;5;28;01mdef\u001b[39;00m \u001b[38;5;21m__init__\u001b[39m(\u001b[38;5;28mself\u001b[39m, name: \u001b[38;5;28mint\u001b[39m, price: \u001b[38;5;28mfloat\u001b[39m, quantity\u001b[38;5;241m=\u001b[39m\u001b[38;5;241m0\u001b[39m):\n\u001b[1;32m      3\u001b[0m     \u001b[38;5;66;03m# Run valdation to the received arguments\u001b[39;00m\n\u001b[1;32m      4\u001b[0m     \u001b[38;5;28;01massert\u001b[39;00m price \u001b[38;5;241m>\u001b[39m\u001b[38;5;241m=\u001b[39m \u001b[38;5;241m0\u001b[39m\n\u001b[0;32m----> 5\u001b[0m     \u001b[38;5;28;01massert\u001b[39;00m quantity \u001b[38;5;241m>\u001b[39m\u001b[38;5;241m=\u001b[39m \u001b[38;5;241m0\u001b[39m\n\u001b[1;32m      7\u001b[0m     \u001b[38;5;66;03m# Assign to self object\u001b[39;00m\n\u001b[1;32m      8\u001b[0m     \u001b[38;5;28mself\u001b[39m\u001b[38;5;241m.\u001b[39mname \u001b[38;5;241m=\u001b[39m name\n",
      "\u001b[0;31mAssertionError\u001b[0m: "
     ]
    }
   ],
   "source": [
    "class Item:\n",
    "    def __init__(self, name: int, price: float, quantity=0):\n",
    "        # Run valdation to the received arguments\n",
    "        assert price >= 0\n",
    "        assert quantity >= 0\n",
    "        \n",
    "        # Assign to self object\n",
    "        self.name = name\n",
    "        self.price = price\n",
    "        self.quantity = quantity\n",
    "        \n",
    "    def calculate_total_price(self):\n",
    "        return self.price * self.quantity\n",
    "    \n",
    "item1 = Item('Phone', 100, -5)\n",
    "item2 = Item('Laptop', 1000, 3)"
   ]
  },
  {
   "cell_type": "markdown",
   "id": "3645f3b7",
   "metadata": {},
   "source": [
    "#### **Reference**\n",
    "\n",
    "- [Object Oriented Programming with Python](https://www.youtube.com/watch?v=Ej_02ICOIgs&ab_channel=freeCodeCamp.org)"
   ]
  },
  {
   "cell_type": "code",
   "execution_count": null,
   "id": "bf0c0b1e",
   "metadata": {},
   "outputs": [],
   "source": []
  }
 ],
 "metadata": {
  "kernelspec": {
   "display_name": "Python 3 (ipykernel)",
   "language": "python",
   "name": "python3"
  },
  "language_info": {
   "codemirror_mode": {
    "name": "ipython",
    "version": 3
   },
   "file_extension": ".py",
   "mimetype": "text/x-python",
   "name": "python",
   "nbconvert_exporter": "python",
   "pygments_lexer": "ipython3",
   "version": "3.10.9"
  }
 },
 "nbformat": 4,
 "nbformat_minor": 5
}
